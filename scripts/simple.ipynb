{
 "cells": [
  {
   "cell_type": "code",
   "execution_count": 19,
   "id": "c50a28a5",
   "metadata": {},
   "outputs": [
    {
     "data": {
      "text/plain": [
       "'/Users/surbhisharma/rag_assesment/venv/bin/python'"
      ]
     },
     "execution_count": 19,
     "metadata": {},
     "output_type": "execute_result"
    }
   ],
   "source": [
    "import sys\n",
    "sys.executable\n"
   ]
  },
  {
   "cell_type": "code",
   "execution_count": 2,
   "id": "5d5c1b62",
   "metadata": {},
   "outputs": [
    {
     "name": "stdout",
     "output_type": "stream",
     "text": [
      "Requirement already satisfied: transformers in /Users/surbhisharma/rag_assesment/services/embedding_service/venv/lib/python3.9/site-packages (4.56.1)\n",
      "Requirement already satisfied: datasets in /Users/surbhisharma/rag_assesment/services/embedding_service/venv/lib/python3.9/site-packages (4.0.0)\n",
      "Requirement already satisfied: peft in /Users/surbhisharma/rag_assesment/services/embedding_service/venv/lib/python3.9/site-packages (0.17.1)\n",
      "Requirement already satisfied: torch in /Users/surbhisharma/rag_assesment/services/embedding_service/venv/lib/python3.9/site-packages (2.2.2)\n",
      "Requirement already satisfied: filelock in /Users/surbhisharma/rag_assesment/services/embedding_service/venv/lib/python3.9/site-packages (from transformers) (3.19.1)\n",
      "Requirement already satisfied: pyyaml>=5.1 in /Users/surbhisharma/rag_assesment/services/embedding_service/venv/lib/python3.9/site-packages (from transformers) (6.0.2)\n",
      "Requirement already satisfied: regex!=2019.12.17 in /Users/surbhisharma/rag_assesment/services/embedding_service/venv/lib/python3.9/site-packages (from transformers) (2025.9.1)\n",
      "Requirement already satisfied: tokenizers<=0.23.0,>=0.22.0 in /Users/surbhisharma/rag_assesment/services/embedding_service/venv/lib/python3.9/site-packages (from transformers) (0.22.0)\n",
      "Requirement already satisfied: huggingface-hub<1.0,>=0.34.0 in /Users/surbhisharma/rag_assesment/services/embedding_service/venv/lib/python3.9/site-packages (from transformers) (0.34.4)\n",
      "Requirement already satisfied: tqdm>=4.27 in /Users/surbhisharma/rag_assesment/services/embedding_service/venv/lib/python3.9/site-packages (from transformers) (4.67.1)\n",
      "Requirement already satisfied: safetensors>=0.4.3 in /Users/surbhisharma/rag_assesment/services/embedding_service/venv/lib/python3.9/site-packages (from transformers) (0.6.2)\n",
      "Requirement already satisfied: numpy>=1.17 in /Users/surbhisharma/rag_assesment/services/embedding_service/venv/lib/python3.9/site-packages (from transformers) (1.26.4)\n",
      "Requirement already satisfied: packaging>=20.0 in /Users/surbhisharma/rag_assesment/services/embedding_service/venv/lib/python3.9/site-packages (from transformers) (25.0)\n",
      "Requirement already satisfied: requests in /Users/surbhisharma/rag_assesment/services/embedding_service/venv/lib/python3.9/site-packages (from transformers) (2.32.5)\n",
      "Requirement already satisfied: multiprocess<0.70.17 in /Users/surbhisharma/rag_assesment/services/embedding_service/venv/lib/python3.9/site-packages (from datasets) (0.70.16)\n",
      "Requirement already satisfied: xxhash in /Users/surbhisharma/rag_assesment/services/embedding_service/venv/lib/python3.9/site-packages (from datasets) (3.5.0)\n",
      "Requirement already satisfied: pyarrow>=15.0.0 in /Users/surbhisharma/rag_assesment/services/embedding_service/venv/lib/python3.9/site-packages (from datasets) (21.0.0)\n",
      "Requirement already satisfied: pandas in /Users/surbhisharma/rag_assesment/services/embedding_service/venv/lib/python3.9/site-packages (from datasets) (2.3.2)\n",
      "Requirement already satisfied: dill<0.3.9,>=0.3.0 in /Users/surbhisharma/rag_assesment/services/embedding_service/venv/lib/python3.9/site-packages (from datasets) (0.3.8)\n",
      "Requirement already satisfied: fsspec[http]<=2025.3.0,>=2023.1.0 in /Users/surbhisharma/rag_assesment/services/embedding_service/venv/lib/python3.9/site-packages (from datasets) (2025.3.0)\n",
      "Requirement already satisfied: accelerate>=0.21.0 in /Users/surbhisharma/rag_assesment/services/embedding_service/venv/lib/python3.9/site-packages (from peft) (1.10.1)\n",
      "Requirement already satisfied: psutil in /Users/surbhisharma/rag_assesment/services/embedding_service/venv/lib/python3.9/site-packages (from peft) (7.0.0)\n",
      "Requirement already satisfied: sympy in /Users/surbhisharma/rag_assesment/services/embedding_service/venv/lib/python3.9/site-packages (from torch) (1.14.0)\n",
      "Requirement already satisfied: networkx in /Users/surbhisharma/rag_assesment/services/embedding_service/venv/lib/python3.9/site-packages (from torch) (3.2.1)\n",
      "Requirement already satisfied: typing-extensions>=4.8.0 in /Users/surbhisharma/rag_assesment/services/embedding_service/venv/lib/python3.9/site-packages (from torch) (4.15.0)\n",
      "Requirement already satisfied: jinja2 in /Users/surbhisharma/rag_assesment/services/embedding_service/venv/lib/python3.9/site-packages (from torch) (3.1.6)\n",
      "Requirement already satisfied: aiohttp!=4.0.0a0,!=4.0.0a1 in /Users/surbhisharma/rag_assesment/services/embedding_service/venv/lib/python3.9/site-packages (from fsspec[http]<=2025.3.0,>=2023.1.0->datasets) (3.12.15)\n",
      "Requirement already satisfied: aiosignal>=1.4.0 in /Users/surbhisharma/rag_assesment/services/embedding_service/venv/lib/python3.9/site-packages (from aiohttp!=4.0.0a0,!=4.0.0a1->fsspec[http]<=2025.3.0,>=2023.1.0->datasets) (1.4.0)\n",
      "Requirement already satisfied: propcache>=0.2.0 in /Users/surbhisharma/rag_assesment/services/embedding_service/venv/lib/python3.9/site-packages (from aiohttp!=4.0.0a0,!=4.0.0a1->fsspec[http]<=2025.3.0,>=2023.1.0->datasets) (0.3.2)\n",
      "Requirement already satisfied: async-timeout<6.0,>=4.0 in /Users/surbhisharma/rag_assesment/services/embedding_service/venv/lib/python3.9/site-packages (from aiohttp!=4.0.0a0,!=4.0.0a1->fsspec[http]<=2025.3.0,>=2023.1.0->datasets) (4.0.3)\n",
      "Requirement already satisfied: attrs>=17.3.0 in /Users/surbhisharma/rag_assesment/services/embedding_service/venv/lib/python3.9/site-packages (from aiohttp!=4.0.0a0,!=4.0.0a1->fsspec[http]<=2025.3.0,>=2023.1.0->datasets) (25.3.0)\n",
      "Requirement already satisfied: multidict<7.0,>=4.5 in /Users/surbhisharma/rag_assesment/services/embedding_service/venv/lib/python3.9/site-packages (from aiohttp!=4.0.0a0,!=4.0.0a1->fsspec[http]<=2025.3.0,>=2023.1.0->datasets) (6.6.4)\n",
      "Requirement already satisfied: frozenlist>=1.1.1 in /Users/surbhisharma/rag_assesment/services/embedding_service/venv/lib/python3.9/site-packages (from aiohttp!=4.0.0a0,!=4.0.0a1->fsspec[http]<=2025.3.0,>=2023.1.0->datasets) (1.7.0)\n",
      "Requirement already satisfied: yarl<2.0,>=1.17.0 in /Users/surbhisharma/rag_assesment/services/embedding_service/venv/lib/python3.9/site-packages (from aiohttp!=4.0.0a0,!=4.0.0a1->fsspec[http]<=2025.3.0,>=2023.1.0->datasets) (1.20.1)\n",
      "Requirement already satisfied: aiohappyeyeballs>=2.5.0 in /Users/surbhisharma/rag_assesment/services/embedding_service/venv/lib/python3.9/site-packages (from aiohttp!=4.0.0a0,!=4.0.0a1->fsspec[http]<=2025.3.0,>=2023.1.0->datasets) (2.6.1)\n",
      "Requirement already satisfied: hf-xet<2.0.0,>=1.1.3 in /Users/surbhisharma/rag_assesment/services/embedding_service/venv/lib/python3.9/site-packages (from huggingface-hub<1.0,>=0.34.0->transformers) (1.1.9)\n",
      "Requirement already satisfied: certifi>=2017.4.17 in /Users/surbhisharma/rag_assesment/services/embedding_service/venv/lib/python3.9/site-packages (from requests->transformers) (2025.8.3)\n",
      "Requirement already satisfied: idna<4,>=2.5 in /Users/surbhisharma/rag_assesment/services/embedding_service/venv/lib/python3.9/site-packages (from requests->transformers) (3.10)\n",
      "Requirement already satisfied: urllib3<3,>=1.21.1 in /Users/surbhisharma/rag_assesment/services/embedding_service/venv/lib/python3.9/site-packages (from requests->transformers) (2.5.0)\n",
      "Requirement already satisfied: charset_normalizer<4,>=2 in /Users/surbhisharma/rag_assesment/services/embedding_service/venv/lib/python3.9/site-packages (from requests->transformers) (3.4.3)\n",
      "Requirement already satisfied: MarkupSafe>=2.0 in /Users/surbhisharma/rag_assesment/services/embedding_service/venv/lib/python3.9/site-packages (from jinja2->torch) (3.0.2)\n",
      "Requirement already satisfied: tzdata>=2022.7 in /Users/surbhisharma/rag_assesment/services/embedding_service/venv/lib/python3.9/site-packages (from pandas->datasets) (2025.2)\n",
      "Requirement already satisfied: pytz>=2020.1 in /Users/surbhisharma/rag_assesment/services/embedding_service/venv/lib/python3.9/site-packages (from pandas->datasets) (2025.2)\n",
      "Requirement already satisfied: python-dateutil>=2.8.2 in /Users/surbhisharma/rag_assesment/services/embedding_service/venv/lib/python3.9/site-packages (from pandas->datasets) (2.9.0.post0)\n",
      "Requirement already satisfied: six>=1.5 in /Users/surbhisharma/rag_assesment/services/embedding_service/venv/lib/python3.9/site-packages (from python-dateutil>=2.8.2->pandas->datasets) (1.17.0)\n",
      "Requirement already satisfied: mpmath<1.4,>=1.1.0 in /Users/surbhisharma/rag_assesment/services/embedding_service/venv/lib/python3.9/site-packages (from sympy->torch) (1.3.0)\n",
      "\u001b[33mWARNING: You are using pip version 21.2.4; however, version 25.2 is available.\n",
      "You should consider upgrading via the '/Users/surbhisharma/rag_assesment/services/embedding_service/venv/bin/python3 -m pip install --upgrade pip' command.\u001b[0m\n"
     ]
    }
   ],
   "source": [
    "!pip3 install transformers datasets peft torch\n"
   ]
  },
  {
   "cell_type": "code",
   "execution_count": 4,
   "id": "b2b4ab81",
   "metadata": {},
   "outputs": [
    {
     "name": "stdout",
     "output_type": "stream",
     "text": [
      "Collecting ipykernel\n",
      "  Using cached ipykernel-6.30.1-py3-none-any.whl (117 kB)\n",
      "Collecting jupyter-client>=8.0.0\n",
      "  Using cached jupyter_client-8.6.3-py3-none-any.whl (106 kB)\n",
      "Collecting comm>=0.1.1\n",
      "  Using cached comm-0.2.3-py3-none-any.whl (7.3 kB)\n",
      "Collecting appnope>=0.1.2\n",
      "  Using cached appnope-0.1.4-py2.py3-none-any.whl (4.3 kB)\n",
      "Collecting tornado>=6.2\n",
      "  Using cached tornado-6.5.2-cp39-abi3-macosx_10_9_x86_64.whl (440 kB)\n",
      "Collecting nest-asyncio>=1.4\n",
      "  Using cached nest_asyncio-1.6.0-py3-none-any.whl (5.2 kB)\n",
      "Collecting traitlets>=5.4.0\n",
      "  Using cached traitlets-5.14.3-py3-none-any.whl (85 kB)\n",
      "Requirement already satisfied: packaging>=22 in /Users/surbhisharma/rag_assesment/services/embedding_service/venv/lib/python3.9/site-packages (from ipykernel) (25.0)\n",
      "Requirement already satisfied: psutil>=5.7 in /Users/surbhisharma/rag_assesment/services/embedding_service/venv/lib/python3.9/site-packages (from ipykernel) (7.0.0)\n",
      "Collecting pyzmq>=25\n",
      "  Using cached pyzmq-27.0.2-cp39-cp39-macosx_10_15_universal2.whl (1.3 MB)\n",
      "Collecting debugpy>=1.6.5\n",
      "  Using cached debugpy-1.8.16-cp39-cp39-macosx_14_0_x86_64.whl (2.1 MB)\n",
      "Collecting ipython>=7.23.1\n",
      "  Using cached ipython-8.18.1-py3-none-any.whl (808 kB)\n",
      "Collecting matplotlib-inline>=0.1\n",
      "  Using cached matplotlib_inline-0.1.7-py3-none-any.whl (9.9 kB)\n",
      "Collecting jupyter-core!=5.0.*,>=4.12\n",
      "  Using cached jupyter_core-5.8.1-py3-none-any.whl (28 kB)\n",
      "Collecting prompt-toolkit<3.1.0,>=3.0.41\n",
      "  Using cached prompt_toolkit-3.0.52-py3-none-any.whl (391 kB)\n",
      "Collecting jedi>=0.16\n",
      "  Using cached jedi-0.19.2-py2.py3-none-any.whl (1.6 MB)\n",
      "Collecting stack-data\n",
      "  Using cached stack_data-0.6.3-py3-none-any.whl (24 kB)\n",
      "Collecting pexpect>4.3\n",
      "  Using cached pexpect-4.9.0-py2.py3-none-any.whl (63 kB)\n",
      "Requirement already satisfied: typing-extensions in /Users/surbhisharma/rag_assesment/services/embedding_service/venv/lib/python3.9/site-packages (from ipython>=7.23.1->ipykernel) (4.15.0)\n",
      "Collecting decorator\n",
      "  Using cached decorator-5.2.1-py3-none-any.whl (9.2 kB)\n",
      "Requirement already satisfied: exceptiongroup in /Users/surbhisharma/rag_assesment/services/embedding_service/venv/lib/python3.9/site-packages (from ipython>=7.23.1->ipykernel) (1.3.0)\n",
      "Collecting pygments>=2.4.0\n",
      "  Using cached pygments-2.19.2-py3-none-any.whl (1.2 MB)\n",
      "Collecting parso<0.9.0,>=0.8.4\n",
      "  Using cached parso-0.8.5-py2.py3-none-any.whl (106 kB)\n",
      "Requirement already satisfied: python-dateutil>=2.8.2 in /Users/surbhisharma/rag_assesment/services/embedding_service/venv/lib/python3.9/site-packages (from jupyter-client>=8.0.0->ipykernel) (2.9.0.post0)\n",
      "Collecting importlib-metadata>=4.8.3\n",
      "  Using cached importlib_metadata-8.7.0-py3-none-any.whl (27 kB)\n",
      "Collecting zipp>=3.20\n",
      "  Using cached zipp-3.23.0-py3-none-any.whl (10 kB)\n",
      "Collecting platformdirs>=2.5\n",
      "  Using cached platformdirs-4.4.0-py3-none-any.whl (18 kB)\n",
      "Collecting ptyprocess>=0.5\n",
      "  Using cached ptyprocess-0.7.0-py2.py3-none-any.whl (13 kB)\n",
      "Collecting wcwidth\n",
      "  Using cached wcwidth-0.2.13-py2.py3-none-any.whl (34 kB)\n",
      "Requirement already satisfied: six>=1.5 in /Users/surbhisharma/rag_assesment/services/embedding_service/venv/lib/python3.9/site-packages (from python-dateutil>=2.8.2->jupyter-client>=8.0.0->ipykernel) (1.17.0)\n",
      "Collecting pure-eval\n",
      "  Using cached pure_eval-0.2.3-py3-none-any.whl (11 kB)\n",
      "Collecting asttokens>=2.1.0\n",
      "  Using cached asttokens-3.0.0-py3-none-any.whl (26 kB)\n",
      "Collecting executing>=1.2.0\n",
      "  Using cached executing-2.2.1-py2.py3-none-any.whl (28 kB)\n",
      "Installing collected packages: zipp, wcwidth, traitlets, pure-eval, ptyprocess, platformdirs, parso, executing, asttokens, tornado, stack-data, pyzmq, pygments, prompt-toolkit, pexpect, matplotlib-inline, jupyter-core, jedi, importlib-metadata, decorator, nest-asyncio, jupyter-client, ipython, debugpy, comm, appnope, ipykernel\n",
      "Successfully installed appnope-0.1.4 asttokens-3.0.0 comm-0.2.3 debugpy-1.8.16 decorator-5.2.1 executing-2.2.1 importlib-metadata-8.7.0 ipykernel-6.30.1 ipython-8.18.1 jedi-0.19.2 jupyter-client-8.6.3 jupyter-core-5.8.1 matplotlib-inline-0.1.7 nest-asyncio-1.6.0 parso-0.8.5 pexpect-4.9.0 platformdirs-4.4.0 prompt-toolkit-3.0.52 ptyprocess-0.7.0 pure-eval-0.2.3 pygments-2.19.2 pyzmq-27.0.2 stack-data-0.6.3 tornado-6.5.2 traitlets-5.14.3 wcwidth-0.2.13 zipp-3.23.0\n",
      "\u001b[33mWARNING: You are using pip version 21.2.4; however, version 25.2 is available.\n",
      "You should consider upgrading via the '/Users/surbhisharma/rag_assesment/services/embedding_service/venv/bin/python3 -m pip install --upgrade pip' command.\u001b[0m\n"
     ]
    }
   ],
   "source": [
    "!pip3 install ipykernel\n",
    "\n"
   ]
  },
  {
   "cell_type": "code",
   "execution_count": 10,
   "id": "235ab251",
   "metadata": {},
   "outputs": [
    {
     "name": "stdout",
     "output_type": "stream",
     "text": [
      "Requirement already satisfied: datasets in /Users/surbhisharma/rag_assesment/services/embedding_service/venv/lib/python3.9/site-packages (4.0.0)\n",
      "Requirement already satisfied: filelock in /Users/surbhisharma/rag_assesment/services/embedding_service/venv/lib/python3.9/site-packages (from datasets) (3.19.1)\n",
      "Requirement already satisfied: dill<0.3.9,>=0.3.0 in /Users/surbhisharma/rag_assesment/services/embedding_service/venv/lib/python3.9/site-packages (from datasets) (0.3.8)\n",
      "Requirement already satisfied: numpy>=1.17 in /Users/surbhisharma/rag_assesment/services/embedding_service/venv/lib/python3.9/site-packages (from datasets) (1.26.4)\n",
      "Requirement already satisfied: pyyaml>=5.1 in /Users/surbhisharma/rag_assesment/services/embedding_service/venv/lib/python3.9/site-packages (from datasets) (6.0.2)\n",
      "Requirement already satisfied: xxhash in /Users/surbhisharma/rag_assesment/services/embedding_service/venv/lib/python3.9/site-packages (from datasets) (3.5.0)\n",
      "Requirement already satisfied: huggingface-hub>=0.24.0 in /Users/surbhisharma/rag_assesment/services/embedding_service/venv/lib/python3.9/site-packages (from datasets) (0.34.4)\n",
      "Requirement already satisfied: requests>=2.32.2 in /Users/surbhisharma/rag_assesment/services/embedding_service/venv/lib/python3.9/site-packages (from datasets) (2.32.5)\n",
      "Requirement already satisfied: pyarrow>=15.0.0 in /Users/surbhisharma/rag_assesment/services/embedding_service/venv/lib/python3.9/site-packages (from datasets) (21.0.0)\n",
      "Requirement already satisfied: tqdm>=4.66.3 in /Users/surbhisharma/rag_assesment/services/embedding_service/venv/lib/python3.9/site-packages (from datasets) (4.67.1)\n",
      "Requirement already satisfied: fsspec[http]<=2025.3.0,>=2023.1.0 in /Users/surbhisharma/rag_assesment/services/embedding_service/venv/lib/python3.9/site-packages (from datasets) (2025.3.0)\n",
      "Requirement already satisfied: packaging in /Users/surbhisharma/rag_assesment/services/embedding_service/venv/lib/python3.9/site-packages (from datasets) (25.0)\n",
      "Requirement already satisfied: multiprocess<0.70.17 in /Users/surbhisharma/rag_assesment/services/embedding_service/venv/lib/python3.9/site-packages (from datasets) (0.70.16)\n",
      "Requirement already satisfied: pandas in /Users/surbhisharma/rag_assesment/services/embedding_service/venv/lib/python3.9/site-packages (from datasets) (2.3.2)\n",
      "Requirement already satisfied: aiohttp!=4.0.0a0,!=4.0.0a1 in /Users/surbhisharma/rag_assesment/services/embedding_service/venv/lib/python3.9/site-packages (from fsspec[http]<=2025.3.0,>=2023.1.0->datasets) (3.12.15)\n",
      "Requirement already satisfied: propcache>=0.2.0 in /Users/surbhisharma/rag_assesment/services/embedding_service/venv/lib/python3.9/site-packages (from aiohttp!=4.0.0a0,!=4.0.0a1->fsspec[http]<=2025.3.0,>=2023.1.0->datasets) (0.3.2)\n",
      "Requirement already satisfied: yarl<2.0,>=1.17.0 in /Users/surbhisharma/rag_assesment/services/embedding_service/venv/lib/python3.9/site-packages (from aiohttp!=4.0.0a0,!=4.0.0a1->fsspec[http]<=2025.3.0,>=2023.1.0->datasets) (1.20.1)\n",
      "Requirement already satisfied: frozenlist>=1.1.1 in /Users/surbhisharma/rag_assesment/services/embedding_service/venv/lib/python3.9/site-packages (from aiohttp!=4.0.0a0,!=4.0.0a1->fsspec[http]<=2025.3.0,>=2023.1.0->datasets) (1.7.0)\n",
      "Requirement already satisfied: multidict<7.0,>=4.5 in /Users/surbhisharma/rag_assesment/services/embedding_service/venv/lib/python3.9/site-packages (from aiohttp!=4.0.0a0,!=4.0.0a1->fsspec[http]<=2025.3.0,>=2023.1.0->datasets) (6.6.4)\n",
      "Requirement already satisfied: attrs>=17.3.0 in /Users/surbhisharma/rag_assesment/services/embedding_service/venv/lib/python3.9/site-packages (from aiohttp!=4.0.0a0,!=4.0.0a1->fsspec[http]<=2025.3.0,>=2023.1.0->datasets) (25.3.0)\n",
      "Requirement already satisfied: async-timeout<6.0,>=4.0 in /Users/surbhisharma/rag_assesment/services/embedding_service/venv/lib/python3.9/site-packages (from aiohttp!=4.0.0a0,!=4.0.0a1->fsspec[http]<=2025.3.0,>=2023.1.0->datasets) (4.0.3)\n",
      "Requirement already satisfied: aiohappyeyeballs>=2.5.0 in /Users/surbhisharma/rag_assesment/services/embedding_service/venv/lib/python3.9/site-packages (from aiohttp!=4.0.0a0,!=4.0.0a1->fsspec[http]<=2025.3.0,>=2023.1.0->datasets) (2.6.1)\n",
      "Requirement already satisfied: aiosignal>=1.4.0 in /Users/surbhisharma/rag_assesment/services/embedding_service/venv/lib/python3.9/site-packages (from aiohttp!=4.0.0a0,!=4.0.0a1->fsspec[http]<=2025.3.0,>=2023.1.0->datasets) (1.4.0)\n",
      "Requirement already satisfied: typing-extensions>=4.2 in /Users/surbhisharma/rag_assesment/services/embedding_service/venv/lib/python3.9/site-packages (from aiosignal>=1.4.0->aiohttp!=4.0.0a0,!=4.0.0a1->fsspec[http]<=2025.3.0,>=2023.1.0->datasets) (4.15.0)\n",
      "Requirement already satisfied: hf-xet<2.0.0,>=1.1.3 in /Users/surbhisharma/rag_assesment/services/embedding_service/venv/lib/python3.9/site-packages (from huggingface-hub>=0.24.0->datasets) (1.1.9)\n",
      "Requirement already satisfied: charset_normalizer<4,>=2 in /Users/surbhisharma/rag_assesment/services/embedding_service/venv/lib/python3.9/site-packages (from requests>=2.32.2->datasets) (3.4.3)\n",
      "Requirement already satisfied: certifi>=2017.4.17 in /Users/surbhisharma/rag_assesment/services/embedding_service/venv/lib/python3.9/site-packages (from requests>=2.32.2->datasets) (2025.8.3)\n",
      "Requirement already satisfied: urllib3<3,>=1.21.1 in /Users/surbhisharma/rag_assesment/services/embedding_service/venv/lib/python3.9/site-packages (from requests>=2.32.2->datasets) (2.5.0)\n",
      "Requirement already satisfied: idna<4,>=2.5 in /Users/surbhisharma/rag_assesment/services/embedding_service/venv/lib/python3.9/site-packages (from requests>=2.32.2->datasets) (3.10)\n",
      "Requirement already satisfied: python-dateutil>=2.8.2 in /Users/surbhisharma/rag_assesment/services/embedding_service/venv/lib/python3.9/site-packages (from pandas->datasets) (2.9.0.post0)\n",
      "Requirement already satisfied: tzdata>=2022.7 in /Users/surbhisharma/rag_assesment/services/embedding_service/venv/lib/python3.9/site-packages (from pandas->datasets) (2025.2)\n",
      "Requirement already satisfied: pytz>=2020.1 in /Users/surbhisharma/rag_assesment/services/embedding_service/venv/lib/python3.9/site-packages (from pandas->datasets) (2025.2)\n",
      "Requirement already satisfied: six>=1.5 in /Users/surbhisharma/rag_assesment/services/embedding_service/venv/lib/python3.9/site-packages (from python-dateutil>=2.8.2->pandas->datasets) (1.17.0)\n",
      "\u001b[33mWARNING: You are using pip version 21.2.4; however, version 25.2 is available.\n",
      "You should consider upgrading via the '/Users/surbhisharma/rag_assesment/services/embedding_service/venv/bin/python3 -m pip install --upgrade pip' command.\u001b[0m\n"
     ]
    }
   ],
   "source": [
    "!pip3 install datasets"
   ]
  },
  {
   "cell_type": "code",
   "execution_count": 6,
   "id": "6a3707ce",
   "metadata": {},
   "outputs": [
    {
     "ename": "SyntaxError",
     "evalue": "invalid syntax (2869923740.py, line 1)",
     "output_type": "error",
     "traceback": [
      "\u001b[0;36m  Cell \u001b[0;32mIn[6], line 1\u001b[0;36m\u001b[0m\n\u001b[0;31m    python3 -m ipykernel install --user --name=venv --display-name \"Python (venv)\"\u001b[0m\n\u001b[0m               ^\u001b[0m\n\u001b[0;31mSyntaxError\u001b[0m\u001b[0;31m:\u001b[0m invalid syntax\n"
     ]
    }
   ],
   "source": [
    "python3 -m ipykernel install --user --name=venv --display-name \"Python (venv)\"\n"
   ]
  },
  {
   "cell_type": "code",
   "execution_count": 8,
   "id": "7915cdfb",
   "metadata": {},
   "outputs": [
    {
     "ename": "NameError",
     "evalue": "name 'python3' is not defined",
     "output_type": "error",
     "traceback": [
      "\u001b[0;31m---------------------------------------------------------------------------\u001b[0m",
      "\u001b[0;31mNameError\u001b[0m                                 Traceback (most recent call last)",
      "Cell \u001b[0;32mIn[8], line 1\u001b[0m\n\u001b[0;32m----> 1\u001b[0m \u001b[43mpython3\u001b[49m\n",
      "\u001b[0;31mNameError\u001b[0m: name 'python3' is not defined"
     ]
    }
   ],
   "source": [
    "python3\n"
   ]
  },
  {
   "cell_type": "code",
   "execution_count": 24,
   "id": "f7facbfc",
   "metadata": {},
   "outputs": [
    {
     "ename": "ModuleNotFoundError",
     "evalue": "No module named 'datasets'",
     "output_type": "error",
     "traceback": [
      "\u001b[0;31m---------------------------------------------------------------------------\u001b[0m",
      "\u001b[0;31mModuleNotFoundError\u001b[0m                       Traceback (most recent call last)",
      "Cell \u001b[0;32mIn[24], line 1\u001b[0m\n\u001b[0;32m----> 1\u001b[0m \u001b[38;5;28;01mfrom\u001b[39;00m\u001b[38;5;250m \u001b[39m\u001b[38;5;21;01mdatasets\u001b[39;00m\u001b[38;5;250m \u001b[39m\u001b[38;5;28;01mimport\u001b[39;00m Dataset\n",
      "\u001b[0;31mModuleNotFoundError\u001b[0m: No module named 'datasets'"
     ]
    }
   ],
   "source": [
    "from datasets import Dataset\n"
   ]
  },
  {
   "cell_type": "code",
   "execution_count": 9,
   "id": "fdf1c1b3",
   "metadata": {},
   "outputs": [
    {
     "ename": "ModuleNotFoundError",
     "evalue": "No module named 'datasets'",
     "output_type": "error",
     "traceback": [
      "\u001b[0;31m---------------------------------------------------------------------------\u001b[0m",
      "\u001b[0;31mModuleNotFoundError\u001b[0m                       Traceback (most recent call last)",
      "Cell \u001b[0;32mIn[9], line 1\u001b[0m\n\u001b[0;32m----> 1\u001b[0m \u001b[38;5;28;01mfrom\u001b[39;00m\u001b[38;5;250m \u001b[39m\u001b[38;5;21;01mdatasets\u001b[39;00m\u001b[38;5;250m \u001b[39m\u001b[38;5;28;01mimport\u001b[39;00m Dataset\n\u001b[1;32m      3\u001b[0m data \u001b[38;5;241m=\u001b[39m {\n\u001b[1;32m      4\u001b[0m     \u001b[38;5;124m\"\u001b[39m\u001b[38;5;124mquestion\u001b[39m\u001b[38;5;124m\"\u001b[39m: [\u001b[38;5;124m\"\u001b[39m\u001b[38;5;124mWhat is the capital of France?\u001b[39m\u001b[38;5;124m\"\u001b[39m, \u001b[38;5;124m\"\u001b[39m\u001b[38;5;124mWho wrote \u001b[39m\u001b[38;5;124m'\u001b[39m\u001b[38;5;124m1984\u001b[39m\u001b[38;5;124m'\u001b[39m\u001b[38;5;124m?\u001b[39m\u001b[38;5;124m\"\u001b[39m, \u001b[38;5;124m\"\u001b[39m\u001b[38;5;124mWhat is 2 + 2?\u001b[39m\u001b[38;5;124m\"\u001b[39m],\n\u001b[1;32m      5\u001b[0m     \u001b[38;5;124m\"\u001b[39m\u001b[38;5;124manswer\u001b[39m\u001b[38;5;124m\"\u001b[39m: [\u001b[38;5;124m\"\u001b[39m\u001b[38;5;124mParis\u001b[39m\u001b[38;5;124m\"\u001b[39m, \u001b[38;5;124m\"\u001b[39m\u001b[38;5;124mGeorge Orwell\u001b[39m\u001b[38;5;124m\"\u001b[39m, \u001b[38;5;124m\"\u001b[39m\u001b[38;5;124m4\u001b[39m\u001b[38;5;124m\"\u001b[39m]\n\u001b[1;32m      6\u001b[0m }\n\u001b[1;32m      8\u001b[0m dataset \u001b[38;5;241m=\u001b[39m Dataset\u001b[38;5;241m.\u001b[39mfrom_dict(data)\n",
      "\u001b[0;31mModuleNotFoundError\u001b[0m: No module named 'datasets'"
     ]
    }
   ],
   "source": [
    "from datasets import Dataset\n",
    "\n",
    "data = {\n",
    "    \"question\": [\"What is the capital of France?\", \"Who wrote '1984'?\", \"What is 2 + 2?\"],\n",
    "    \"answer\": [\"Paris\", \"George Orwell\", \"4\"]\n",
    "}\n",
    "\n",
    "dataset = Dataset.from_dict(data)\n"
   ]
  }
 ],
 "metadata": {
  "kernelspec": {
   "display_name": "venv (3.9.6)",
   "language": "python",
   "name": "python3"
  },
  "language_info": {
   "codemirror_mode": {
    "name": "ipython",
    "version": 3
   },
   "file_extension": ".py",
   "mimetype": "text/x-python",
   "name": "python",
   "nbconvert_exporter": "python",
   "pygments_lexer": "ipython3",
   "version": "3.9.6"
  }
 },
 "nbformat": 4,
 "nbformat_minor": 5
}
